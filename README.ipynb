{
 "cells": [
  {
   "cell_type": "markdown",
   "metadata": {},
   "source": [
    "# jupyter-personium\n",
    "Personium APIをpythonで実行して試行するためのセットです。  \n",
    "pythonとPersoniumの勉強のために作成しております。\n",
    "ひとまず自作のEngineScriptを実行するために必要なものを色々作成しています。\n",
    "\n",
    "## 前提、制限\n",
    "* jupyter labで実行すること。\n",
    "* tokenが取得可能なCellが作成済みであること。\n",
    "* unit権限操作は想定していません。\n",
    "* とりあえず、v1.6系のURL想定です（ `https://unit/cell/` ）\n",
    "\n",
    "## 検証範囲\n",
    "* user権限\n",
    "* proxy環境下ではない\n",
    "\n",
    "## 注意事項\n",
    "説明文で、`Cell` と記載している場合、PersoniumのCellを指しています。  \n",
    "片仮名で、`セル` と記載している場合、JupyterLabのセルを指しています。  \n",
    "※分かりづらい且つ間違って記載する可能性もあります。文脈より判断をお願いします。\n",
    "\n",
    "ご自身の環境に合わせて修正してほしいセルについては、`★` マーク付けておきます。\n"
   ]
  },
  {
   "cell_type": "markdown",
   "metadata": {},
   "source": [
    "### はじめに、環境設定をおこないます。\n",
    "[set_config.ipynb](set_config.ipynb) にあるスクリプトを実行してください。"
   ]
  },
  {
   "cell_type": "markdown",
   "metadata": {},
   "source": [
    "### 設定が正しくできたか、Tokenの取得ができるかで確認しましょう。  \n",
    "[get_token.ipynb](get_token.ipynb) に進んでください。"
   ]
  }
 ],
 "metadata": {
  "kernelspec": {
   "display_name": "Python 3",
   "language": "python",
   "name": "python3"
  },
  "language_info": {
   "codemirror_mode": {
    "name": "ipython",
    "version": 3
   },
   "file_extension": ".py",
   "mimetype": "text/x-python",
   "name": "python",
   "nbconvert_exporter": "python",
   "pygments_lexer": "ipython3",
   "version": "3.6.3"
  }
 },
 "nbformat": 4,
 "nbformat_minor": 2
}
