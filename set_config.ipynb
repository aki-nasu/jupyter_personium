{
 "cells": [
  {
   "cell_type": "markdown",
   "metadata": {},
   "source": [
    "## set config\n",
    "configファイルの作成をおこないます。\n",
    "- proxy設定（必要な場合）\n",
    "- unit設定"
   ]
  },
  {
   "cell_type": "markdown",
   "metadata": {},
   "source": [
    "### APIを実行する環境について設定します。\n",
    "#### Proxy設定\n",
    "`dict_data` にProxy情報を入力して、セルを実行してください。"
   ]
  },
  {
   "cell_type": "code",
   "execution_count": 1,
   "metadata": {},
   "outputs": [],
   "source": [
    "dict_data = {}\n",
    "# http://<http_user>:<http_password>@<http_user>:<http_port>\n",
    "dict_data['http_host'] = 'http_host'\n",
    "dict_data['http_port'] = 'http_port'\n",
    "dict_data['http_user'] = 'http_user'\n",
    "dict_data['http_password'] = 'http_password'\n",
    "# http://<https_user>:<https_password>@<https_user>:<https_port>\n",
    "dict_data['https_host'] = 'https_host'\n",
    "dict_data['https_port'] = 'https_port'\n",
    "dict_data['https_user'] = 'https_user'\n",
    "dict_data['https_password'] = 'https_password'"
   ]
  },
  {
   "cell_type": "code",
   "execution_count": null,
   "metadata": {},
   "outputs": [],
   "source": [
    "import pprint\n",
    "import importlib\n",
    "\n",
    "from py_config import config\n",
    "importlib.reload(config)\n",
    "\n",
    "res = config.update_config_proxy(dict_data)\n",
    "pprint.pprint(res)"
   ]
  },
  {
   "cell_type": "markdown",
   "metadata": {},
   "source": [
    "### personium 環境設定\n",
    "personiumの環境情報 `unit_name` を入力してセルを実行してください。"
   ]
  },
  {
   "cell_type": "code",
   "execution_count": 2,
   "metadata": {},
   "outputs": [],
   "source": [
    "unit_name = '******'"
   ]
  },
  {
   "cell_type": "code",
   "execution_count": 7,
   "metadata": {},
   "outputs": [],
   "source": [
    "# 接続先のURLを指定します。\n",
    "# ex) https://<unit_name>/\n",
    "res = config.update_config_unit(unit_name)"
   ]
  },
  {
   "cell_type": "markdown",
   "metadata": {},
   "source": [
    "### Cell情報設定\n",
    "personiumに登録しているCell名、Cellを操作するユーザー名、パスワードを入力してセルを実行してください。"
   ]
  },
  {
   "cell_type": "markdown",
   "metadata": {},
   "source": [
    "TBD:申し訳ありませんが、 `config/personium_cell_list` を手動で更新してください。\n",
    "JSONの形式は、以下の通りです。\n",
    "```json\n",
    "{\n",
    "    \"cells\" :\n",
    "    [\n",
    "        {\n",
    "            \"cell_name\" : \"****\",\n",
    "            \"user\" : \"****\",\n",
    "            \"password\" : \"****\"\n",
    "        },\n",
    "        .........\n",
    "    ]\n",
    "}\n",
    "```"
   ]
  },
  {
   "cell_type": "markdown",
   "metadata": {},
   "source": [
    "[README.md](README.md) に戻り、次の手順に進みましょう。"
   ]
  }
 ],
 "metadata": {
  "kernelspec": {
   "display_name": "Python 3",
   "language": "python",
   "name": "python3"
  },
  "language_info": {
   "codemirror_mode": {
    "name": "ipython",
    "version": 3
   },
   "file_extension": ".py",
   "mimetype": "text/x-python",
   "name": "python",
   "nbconvert_exporter": "python",
   "pygments_lexer": "ipython3",
   "version": "3.6.3"
  }
 },
 "nbformat": 4,
 "nbformat_minor": 2
}
