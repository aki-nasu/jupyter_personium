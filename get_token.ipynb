{
 "cells": [
  {
   "cell_type": "markdown",
   "metadata": {},
   "source": [
    "# get token\n",
    "主に設定内容の確認のために、トークンを取得します。"
   ]
  },
  {
   "cell_type": "markdown",
   "metadata": {},
   "source": [
    "### まずは、libraryのインポートをしてください。"
   ]
  },
  {
   "cell_type": "code",
   "execution_count": null,
   "metadata": {},
   "outputs": [],
   "source": [
    "import requests\n",
    "import pprint\n",
    "import importlib\n",
    "\n",
    "from py_config import config\n",
    "importlib.reload(config)"
   ]
  },
  {
   "cell_type": "markdown",
   "metadata": {},
   "source": [
    "`ModuleNotFoundError: No module named 'requests'` が出る場合は、以下のセルを実行してインストールしてください。"
   ]
  },
  {
   "cell_type": "code",
   "execution_count": 30,
   "metadata": {},
   "outputs": [],
   "source": [
    "# ModuleNotFoundError: No module named 'requests' が出た場合、初回のみ実行。\n",
    "# !pip install requests"
   ]
  },
  {
   "cell_type": "markdown",
   "metadata": {},
   "source": [
    "## Cell名の入力\n",
    "取得するトークンのCell名を、`cell_name` に入力して実行してください。"
   ]
  },
  {
   "cell_type": "code",
   "execution_count": null,
   "metadata": {},
   "outputs": [],
   "source": [
    "cell_name = '*****'"
   ]
  },
  {
   "cell_type": "code",
   "execution_count": null,
   "metadata": {},
   "outputs": [],
   "source": [
    "unit_name = config.get_config_unit()\n",
    "# TBD : v1.7では下記が変わります。\n",
    "url = 'https://' + unit_name + '/' + cell_name + '/'\n",
    "cell_account = config.get_config_cell_account(cell_name);\n",
    "\n",
    "print('<url> ' + url)\n",
    "print('<cell account>')\n",
    "print(cell_account)"
   ]
  },
  {
   "cell_type": "markdown",
   "metadata": {},
   "source": [
    "## Tokenを取得する\n",
    "Personium環境に接続して、Tokenを取得します。\n",
    "Tokenが返ってくれば、設定が正しくできていることがわかります。"
   ]
  },
  {
   "cell_type": "code",
   "execution_count": null,
   "metadata": {},
   "outputs": [],
   "source": [
    "# request headers\n",
    "headers = {\n",
    "    'Accept': 'application/json',\n",
    "    'Content-Type' : 'application/x-www-form-urlencoded'\n",
    "    }\n",
    "params = \"grant_type=password&username=\" + cell_account['user'] + \"&password=\" + cell_account['password']\n",
    "print(params)"
   ]
  },
  {
   "cell_type": "code",
   "execution_count": null,
   "metadata": {},
   "outputs": [],
   "source": [
    "api = url + '__token'\n",
    "res = requests.post(api, headers=headers, data=params)\n",
    "pprint.pprint(res.json())"
   ]
  },
  {
   "cell_type": "markdown",
   "metadata": {},
   "source": [
    "### Tokenが取れたら、次回以降は下記を使ってTokenを取得します。\n",
    "取得するトークンのCell名を、`cell_name` に入力して実行してください。"
   ]
  },
  {
   "cell_type": "code",
   "execution_count": null,
   "metadata": {},
   "outputs": [],
   "source": [
    "cell_name = '****'"
   ]
  },
  {
   "cell_type": "code",
   "execution_count": null,
   "metadata": {},
   "outputs": [],
   "source": [
    "from py_config import config\n",
    "from py_personium import per_token\n",
    "importlib.reload(config)\n",
    "importlib.reload(per_token)\n",
    "\n",
    "unit_name = config.get_config_unit()\n",
    "url = 'https://' + unit_name + '/' + cell_name + '/'\n",
    "cell_account = config.get_config_cell_account(cell_name);\n",
    "\n",
    "print('<url> ' + url)\n",
    "print('<cell account>')\n",
    "print(cell_account)\n",
    "res = per_token.get_token(url, cell_account)\n",
    "print('<token>')\n",
    "pprint.pprint(res.json())"
   ]
  },
  {
   "cell_type": "markdown",
   "metadata": {},
   "source": [
    "[README.ipynb](README.ipynb) に戻り、次の手順に進みましょう。"
   ]
  }
 ],
 "metadata": {
  "kernelspec": {
   "display_name": "Python 3",
   "language": "python",
   "name": "python3"
  },
  "language_info": {
   "codemirror_mode": {
    "name": "ipython",
    "version": 3
   },
   "file_extension": ".py",
   "mimetype": "text/x-python",
   "name": "python",
   "nbconvert_exporter": "python",
   "pygments_lexer": "ipython3",
   "version": "3.6.3"
  }
 },
 "nbformat": 4,
 "nbformat_minor": 2
}
